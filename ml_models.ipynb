{
 "cells": [
  {
   "cell_type": "code",
   "execution_count": 4,
   "metadata": {},
   "outputs": [],
   "source": [
    "import numpy as np\n",
    "import matplotlib.pyplot as plt\n",
    "import pandas as pd \n",
    "import seaborn as sns\n",
    "\n",
    "from sklearn import (linear_model, metrics, neural_network, pipeline, preprocessing, model_selection)"
   ]
  },
  {
   "cell_type": "code",
   "execution_count": 2,
   "metadata": {},
   "outputs": [],
   "source": [
    "# Load data\n",
    "df = pd.read_csv(\"data.csv\")\n",
    "df.head()"
   ]
  },
  {
   "cell_type": "code",
   "execution_count": null,
   "metadata": {},
   "outputs": [],
   "source": [
    "# Visualize data to detect stationarity\n",
    "def plot_vars(data, levels, color, leveltype):\n",
    "    \"\"\"\n",
    "    Displays historical trends\n",
    "    \"\"\"\n",
    "    \n",
    "    fig, ax = plt.subplots(1, 6, figsize=(16,2.5), sharex=True)\n",
    "    \n",
    "    palettes = [\"blue\", \"green\", \"red\", \"orange\", \"purple\", \"black\"]\n",
    "    \n",
    "    for col, i in dict(zip(levels, list(range(6)))).items():\n",
    "        data[col].plot(ax=ax[i], legend=True, linewidth=1.0, color=color, sharex=True)     \n",
    "    \n",
    "    fig.set_facecolor(\"floralwhite\")\n",
    "    fig.suptitle(f\"Historical trends of VAR {leveltype} variables\", \n",
    "                 fontsize=14, fontweight=\"bold\", fontname=\"Verdana\")"
   ]
  },
  {
   "cell_type": "code",
   "execution_count": 3,
   "metadata": {},
   "outputs": [],
   "source": [
    "# Feature extraction\n",
    "def extract_features(in_data):\n",
    "    \"\"\"\n",
    "    This function extracts feature vectors for each sequential input.\n",
    "    Returns a matrix of all features X = [X_1 X_2 ... X_T] where X_t is matrix of features for data at time t.\n",
    "    \"\"\"\n",
    "    return"
   ]
  },
  {
   "cell_type": "code",
   "execution_count": null,
   "metadata": {},
   "outputs": [],
   "source": [
    "# Train-validation-test dataset split\n",
    "\n",
    "def timeseries_train_test_split(X, y):\n",
    "    \"\"\"\n",
    "    This function splits the sample into a train and test data.\n",
    "    \"\"\"\n",
    "    return X_train, y_train, X_test, y_test"
   ]
  },
  {
   "cell_type": "code",
   "execution_count": null,
   "metadata": {},
   "outputs": [],
   "source": [
    "# Plot forecast\n",
    "def train_test_plot(model, X_train, X_test):\n",
    "    \"\"\"\n",
    "    This will plot the actual values of data against the one fitted by the model.\n",
    "    \"\"\""
   ]
  },
  {
   "cell_type": "markdown",
   "metadata": {},
   "source": [
    "### LASSO"
   ]
  },
  {
   "cell_type": "code",
   "execution_count": null,
   "metadata": {},
   "outputs": [],
   "source": [
    "# LASSO\n",
    "\n",
    "X_train, y_train, X_test, y_test = timeseries_train_test_split(X=X, y=y)\n",
    "\n",
    "lasso = linear_model.LassoCV(cv=model_selection.TimeSeriesSplit(), \n",
    "                             alphas=None, tol = 10000, normalize=True) \n",
    "\n",
    "cv_lasso = lasso.fit(X_train, y_train)\n",
    "optimal_alpha = cv_lasso.alpha_\n",
    "\n",
    "lasso2 = linear_model.Lasso(alpha=optimal_alpha, normalize=True)\n",
    "lasso2.fit(X_train, y_train)\n",
    "\n",
    "train_test_plot(lasso2, X_train, X_test) "
   ]
  },
  {
   "cell_type": "code",
   "execution_count": null,
   "metadata": {},
   "outputs": [],
   "source": [
    "# MSE\n",
    "metrics.mean_squared_error(y_test, lasso2.predict(X_test))"
   ]
  },
  {
   "cell_type": "code",
   "execution_count": null,
   "metadata": {},
   "outputs": [],
   "source": [
    "# Feature selection\n",
    "lasso_coefs = pd.DataFrame({\"features\":list(X_train), \"coef\": lasso2.coef_})\n",
    "lasso_coefs = lasso_coefs[lasso_coefs.coef != 0.0]\n",
    "lasso_coefs.sort_values(\"coef\", ascending=False)"
   ]
  },
  {
   "cell_type": "markdown",
   "metadata": {},
   "source": [
    "### XGBoost"
   ]
  },
  {
   "cell_type": "code",
   "execution_count": null,
   "metadata": {},
   "outputs": [],
   "source": [
    "X_train, y_train, X_test, y_test = timeseries_train_test_split(X=X, y=y)\n",
    "\n",
    "\n",
    "scaler = preprocessing.StandardScaler()\n",
    "X_train_scaled = scaler.fit_transform(X_train)\n",
    "\n",
    "xgb = XGBRegressor()\n",
    "xgb.fit(X_train_scaled, y_train)\n",
    "\n",
    "X_test_scaled = scaler.transform(X_test)\n",
    "\n",
    "train_test_plot(model=xgb, X_train=X_train_scaled, X_test=X_test_scaled)\n"
   ]
  },
  {
   "cell_type": "markdown",
   "metadata": {},
   "source": [
    "### Neural Network"
   ]
  },
  {
   "cell_type": "code",
   "execution_count": null,
   "metadata": {},
   "outputs": [],
   "source": [
    "X_train, y_train, X_test, y_test = timeseries_train_test_split(X=X, y=y)\n",
    "\n",
    "reg = neural_network.MLPRegressor(solver='lbfgs', alpha=1e-5, hidden_layer_sizes=(5, 2), random_state=1)\n",
    "reg.fit(X, y)\n",
    "\n",
    "train_test_plot(model=reg, X_train=X_train_scaled, X_test=X_test_scaled)"
   ]
  }
 ],
 "metadata": {
  "kernelspec": {
   "display_name": "Python 3",
   "language": "python",
   "name": "python3"
  },
  "language_info": {
   "codemirror_mode": {
    "name": "ipython",
    "version": 3
   },
   "file_extension": ".py",
   "mimetype": "text/x-python",
   "name": "python",
   "nbconvert_exporter": "python",
   "pygments_lexer": "ipython3",
   "version": "3.7.4"
  }
 },
 "nbformat": 4,
 "nbformat_minor": 2
}
